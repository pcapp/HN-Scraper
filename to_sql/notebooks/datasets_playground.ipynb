{
 "cells": [
  {
   "cell_type": "code",
   "execution_count": 4,
   "metadata": {},
   "outputs": [],
   "source": [
    "import pandas as pd\n",
    "\n",
    "df = pd.read_parquet(\"../comments.parquet\", engine='pyarrow')"
   ]
  },
  {
   "cell_type": "code",
   "execution_count": 7,
   "metadata": {},
   "outputs": [
    {
     "data": {
      "text/plain": [
       "Dataset({\n",
       "    features: ['title', 'comment_text'],\n",
       "    num_rows: 89931\n",
       "})"
      ]
     },
     "execution_count": 7,
     "metadata": {},
     "output_type": "execute_result"
    }
   ],
   "source": [
    "from datasets import Dataset\n",
    "\n",
    "ds = Dataset.from_pandas(df)\n",
    "ds"
   ]
  },
  {
   "cell_type": "code",
   "execution_count": 22,
   "metadata": {},
   "outputs": [
    {
     "data": {
      "text/plain": [
       "{'title': ['Emacs-copilot: Large language model code completion for Emacs',\n",
       "  'Rich people are more likely to steal from self-checkout. Why?',\n",
       "  'Hard disk LEDs and noisy machines'],\n",
       " 'comment_text': ['Excellent work—thanks!<p>Have you perhaps thought about the possibility of an extension that could allow an Emacs user collect data to be used on a different machine&#x2F;cluster for human finetuning?',\n",
       "  '<a href=\"https:&#x2F;&#x2F;archive.is&#x2F;8TRcm\" rel=\"nofollow\">https:&#x2F;&#x2F;archive.is&#x2F;8TRcm</a>',\n",
       "  'A comment left on the post mentions in days of old you could detect viruses via drive sounds...<p>I have a 2u server sitting in a closet running a lot of things, it sits over a pool of spinning rust, one day I happened to be in the closet and hear the disks getting hammered, no alerts about any network hijinks, no login alerts or high volume traffic coming or going so I log in and it turned out to be a friend I had given a shell to because he wanted to learn linux and he was messing around with dd... His account now has an alert on login so I don&#x27;t have a stroke.<p>Not exactly fun but did bring back memories.']}"
      ]
     },
     "execution_count": 22,
     "metadata": {},
     "output_type": "execute_result"
    }
   ],
   "source": [
    "split_ds =ds.train_test_split(train_size=3000, test_size=1000, seed=42)\n",
    "train_ds = split_ds['train']\n",
    "val_ds = split_ds['test']\n",
    "\n",
    "train_ds[:3]\n"
   ]
  },
  {
   "cell_type": "code",
   "execution_count": 25,
   "metadata": {},
   "outputs": [],
   "source": [
    "\n",
    "def formatting_func(example):\n",
    "    text = f\"### The following is an article title: {example['title']}\\n ### Here is the response: {example['comment_text']}\"\n",
    "    return text"
   ]
  },
  {
   "cell_type": "code",
   "execution_count": 26,
   "metadata": {},
   "outputs": [
    {
     "data": {
      "text/plain": [
       "'### The following is an article title: Hard disk LEDs and noisy machines\\n ### Here is the response: A comment left on the post mentions in days of old you could detect viruses via drive sounds...<p>I have a 2u server sitting in a closet running a lot of things, it sits over a pool of spinning rust, one day I happened to be in the closet and hear the disks getting hammered, no alerts about any network hijinks, no login alerts or high volume traffic coming or going so I log in and it turned out to be a friend I had given a shell to because he wanted to learn linux and he was messing around with dd... His account now has an alert on login so I don&#x27;t have a stroke.<p>Not exactly fun but did bring back memories.'"
      ]
     },
     "execution_count": 26,
     "metadata": {},
     "output_type": "execute_result"
    }
   ],
   "source": [
    "formatting_func(train_ds[2])"
   ]
  },
  {
   "cell_type": "code",
   "execution_count": 28,
   "metadata": {},
   "outputs": [
    {
     "name": "stdout",
     "output_type": "stream",
     "text": [
      "Using version ^0.27.2 for accelerate\n",
      "\n",
      "Updating dependencies\n",
      "Resolving dependencies...\n",
      "\n",
      "Package operations: 1 install, 0 updates, 0 removals\n",
      "\n",
      "  • Installing accelerate (0.27.2)\n",
      "\n",
      "Writing lock file\n"
     ]
    }
   ],
   "source": [
    "!poetry add accelerate"
   ]
  },
  {
   "cell_type": "code",
   "execution_count": 31,
   "metadata": {},
   "outputs": [
    {
     "name": "stderr",
     "output_type": "stream",
     "text": [
      "model-00001-of-00002.safetensors: 100%|██████████| 9.94G/9.94G [11:05<00:00, 14.9MB/s]\n",
      "model-00002-of-00002.safetensors: 100%|██████████| 4.54G/4.54G [04:26<00:00, 17.0MB/s]\n",
      "Downloading shards: 100%|██████████| 2/2 [15:32<00:00, 466.34s/it]\n",
      "Loading checkpoint shards: 100%|██████████| 2/2 [00:10<00:00,  5.50s/it]\n",
      "generation_config.json: 100%|██████████| 116/116 [00:00<00:00, 219kB/s]\n"
     ]
    }
   ],
   "source": [
    "from transformers import AutoTokenizer, AutoModelForCausalLM\n",
    "\n",
    "tokenizer = AutoTokenizer.from_pretrained(\"mistralai/Mistral-7B-v0.1\")\n",
    "model = AutoModelForCausalLM.from_pretrained(\"mistralai/Mistral-7B-v0.1\")"
   ]
  }
 ],
 "metadata": {
  "kernelspec": {
   "display_name": "to-sql-HgHB0HbW-py3.11",
   "language": "python",
   "name": "python3"
  },
  "language_info": {
   "codemirror_mode": {
    "name": "ipython",
    "version": 3
   },
   "file_extension": ".py",
   "mimetype": "text/x-python",
   "name": "python",
   "nbconvert_exporter": "python",
   "pygments_lexer": "ipython3",
   "version": "3.11.4"
  }
 },
 "nbformat": 4,
 "nbformat_minor": 2
}
